{
 "cells": [
  {
   "cell_type": "markdown",
   "metadata": {},
   "source": [
    "# PDF to text extraction\n",
    "**Purpose:** convert contents of a PDF file into text format <br/>\n",
    "**Reference:** https://towardsdatascience.com/pdf-text-extraction-in-python-5b6ab9e92dd"
   ]
  },
  {
   "cell_type": "code",
   "execution_count": 1,
   "metadata": {},
   "outputs": [],
   "source": [
    "# import dependencies\n",
    "import PyPDF2"
   ]
  },
  {
   "cell_type": "code",
   "execution_count": 2,
   "metadata": {},
   "outputs": [],
   "source": [
    "reader = PyPDF2.PdfFileReader('data\\\\alphabet_sample.pdf')"
   ]
  },
  {
   "cell_type": "code",
   "execution_count": 3,
   "metadata": {},
   "outputs": [
    {
     "name": "stdout",
     "output_type": "stream",
     "text": [
      "{'/Author': 'Microsoft account', '/Creator': 'Microsoft® Word 2013', '/CreationDate': \"D:20211129175928-08'00'\", '/ModDate': \"D:20211129175928-08'00'\", '/Producer': 'Microsoft® Word 2013'}\n",
      "1\n"
     ]
    }
   ],
   "source": [
    "print(reader.documentInfo)\n",
    "print(reader.numPages)"
   ]
  },
  {
   "cell_type": "code",
   "execution_count": 4,
   "metadata": {},
   "outputs": [
    {
     "data": {
      "text/plain": [
       "'Calibri\\n \\na b c d e f g h \\ni\\n \\nj k l m n o p q r s t u v w x y z\\n \\nA B C D E F G H I J K L M N O P Q R S T U V W X Y Z\\n \\nTimes New Roman\\n \\na b c d e f g h \\ni\\n \\nj k l m n o p q r s t u v w x y z\\n \\nA B C D E F G H I J K L M N O P Q R S T U V W X Y Z\\n \\nArial\\n \\na b c d e f g h \\ni\\n \\nj k l m n o p q r s t u v w x y z\\n \\nA B C D E F G H I J K L M N O P Q R S T U V W X Y Z\\n \\n'"
      ]
     },
     "execution_count": 4,
     "metadata": {},
     "output_type": "execute_result"
    }
   ],
   "source": [
    "# set which PDF page to convert to text\n",
    "page_num = 1\n",
    "\n",
    "# getPage uses a zero-based index for page numbers, hence the \"-1\"\n",
    "pdf_text = reader.getPage(page_num-1).extractText()\n",
    "pdf_text"
   ]
  },
  {
   "cell_type": "code",
   "execution_count": 5,
   "metadata": {},
   "outputs": [],
   "source": [
    "# write results to text file\n",
    "with open('data/output.txt', 'w') as t:\n",
    "    t.write(pdf_text)"
   ]
  }
 ],
 "metadata": {
  "interpreter": {
   "hash": "5406984f2edc0bdbc5cd7a494452e0fdfab4d1a2e1a90c33da82353fb1ebad85"
  },
  "kernelspec": {
   "display_name": "Python 3.7.9 64-bit",
   "language": "python",
   "name": "python3"
  },
  "language_info": {
   "codemirror_mode": {
    "name": "ipython",
    "version": 3
   },
   "file_extension": ".py",
   "mimetype": "text/x-python",
   "name": "python",
   "nbconvert_exporter": "python",
   "pygments_lexer": "ipython3",
   "version": "3.7.9"
  },
  "orig_nbformat": 4
 },
 "nbformat": 4,
 "nbformat_minor": 2
}
